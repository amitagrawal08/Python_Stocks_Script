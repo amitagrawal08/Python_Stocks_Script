{
 "cells": [
  {
   "cell_type": "code",
   "execution_count": 343,
   "metadata": {
    "scrolled": true
   },
   "outputs": [
    {
     "name": "stdout",
     "output_type": "stream",
     "text": [
      "Authentication OK\n",
      "{1256439787625439232, 1256439291657351169, 1256438025833164800, 1256435514351038464, 1256435511033356288, 1256435258624372736, 1256434754913595393, 1256434505902026752, 1256434250833747969, 1256433999213256704}\n",
      "{1.25644e+18, nan, nan, nan, nan, nan, nan, nan, nan, nan, nan, nan, nan, nan, nan, nan}\n",
      "{1256439787625439232, 1256439291657351169, 1256438025833164800, 1256435514351038464, 1256435511033356288, 1256435258624372736, 1256434754913595393, 1256434505902026752, 1256434250833747969, 1256433999213256704}\n",
      "['SCOOTER', 'CELLA', 'MUKANDLTD', 'SANDUMA', 'CREATIVEYE', 'SRINACHA', 'PHYTO', 'TWL', 'AMITSEC', 'CIMMCO']\n",
      "{('SCOOTER', 1256439787625439232): 'SCOOTER - Statement Of Investor Complaints For The Quarter Ended March 2020 https://t.co/cLRAroDvWs', ('CELLA', 1256439291657351169): 'CELLA - Compliance Certificate Under Reg 7(3) For The Half Year Ended March 31, 2020 https://t.co/eprwV7I7yL', ('MUKANDLTD', 1256438025833164800): 'MUKANDLTD - Statement Of Investor Complaints For The Quarter Ended March 2020 https://t.co/8N3LZjrtV4', ('SANDUMA', 1256435514351038464): 'SANDUMA - Disclosures under Reg. 29(1) and 29(2) of SEBI (SAST) Regulations, 2011 https://t.co/e90M9MCISq', ('CREATIVEYE', 1256435511033356288): 'CREATIVEYE - Shareholding for the Period Ended March 31, 2020 https://t.co/ztxrLLgLLN', ('SRINACHA', 1256435258624372736): 'SRINACHA - Shareholding for the Period Ended March 31, 2020 https://t.co/7SjziFRwlF', ('PHYTO', 1256434754913595393): 'PHYTO - Shareholding for the Period Ended March 31, 2020 https://t.co/wT8Xh9bdAw', ('TWL', 1256434505902026752): 'TWL - Disclosure of Voting results of Court Convened Meeting (Regulation 44(3) of SEBI (LODR) Regulations, 2015) https://t.co/xRfoJSfHcD', ('AMITSEC', 1256434250833747969): 'AMITSEC - Shareholding for the Period Ended March 31, 2020 https://t.co/nD2DBZ0tJU', ('CIMMCO', 1256433999213256704): 'CIMMCO - Disclosure of Voting results of Court Convened Meeting (Regulation 44(3) of SEBI (LODR) Regulations, 2015) https://t.co/1FNZgKHUMA'}\n",
      "[]\n"
     ]
    }
   ],
   "source": [
    "import tweepy\n",
    "import pandas as pd\n",
    "import os\n",
    "from tweepy.streaming import StreamListener\n",
    "\n",
    "Input_list = ['HINDUNILVR','LAURUSLABS','RELIANCE','SIS','TECHM','BLUESTARCO','WABAG','STL','RELHOME','CREDITACC']\n",
    "output = []\n",
    "\n",
    "CONSUMER_KEY=\"HIgeXNsl8uVMWKwGZmcTRnygz\"\n",
    "CONSUMER_SECRET=\"nyeodxBad7kPsxlNqXMbvKSZpIHolp2ghVgfNx4hzbGoZJym6E\"\n",
    "ACCESS_TOKEN=\"467586857-O6VdHaNXBkt3MrdaPVLQSnJQJAePO0Q1bS608Lw5\"\n",
    "ACCESS_TOKEN_SECRET=\"xVYczsZrHaHlHuVWbTMnQ7phlIVFl2quR5L6RGUDCAweJ\"\n",
    "\n",
    "# Authenticate to Twitter\n",
    "auth = tweepy.OAuthHandler(CONSUMER_KEY, CONSUMER_SECRET)\n",
    "auth.set_access_token(ACCESS_TOKEN,ACCESS_TOKEN_SECRET)\n",
    "\n",
    "api = tweepy.API(auth)\n",
    "\n",
    "try:\n",
    "    api.verify_credentials()\n",
    "    print(\"Authentication OK\")\n",
    "except:\n",
    "    print(\"Error during authentication\")\n",
    "\n",
    "tweetid = []\n",
    "tweetdate = []\n",
    "tweettext = []\n",
    "\n",
    "new_tweets = api.user_timeline(screen_name = 'BSE_News', count=10)\n",
    "for tweet in new_tweets:\n",
    "    tweetid.append(tweet.id)\n",
    "    tweetdate.append(str(tweet.created_at))\n",
    "    tweettext.append(tweet.text.split('-')[0].strip())\n",
    "\n",
    "new_data = pd.DataFrame({'tweetid': tweetid, 'tweetdate':tweetdate, 'tweettext':tweettext})\n",
    "new_data.columns=['tweetid','tweetdate','tweettext']\n",
    "column_names=['tweetid','tweetdate','tweettext']\n",
    "new_data1=set(new_data['tweetid'])\n",
    "print(new_data1)\n",
    "\n",
    "if not os.path.isfile('filename.csv'):\n",
    "    old_data1=set()\n",
    "else:\n",
    "    old_data = pd.read_csv('filename.csv')\n",
    "    old_data1=set(old_data['tweetid'])\n",
    "    print(old_data1)\n",
    "\n",
    "main_data = new_data1 - old_data1\n",
    "print(main_data)\n",
    "        \n",
    "new_data2 = []\n",
    "if len(main_data) != 0:\n",
    "    for id in main_data:\n",
    "        ref = new_data[new_data['tweetid'] == id]['tweettext']\n",
    "        for index, value in ref.items():\n",
    "            new_data2.append(value)\n",
    "print(new_data2)\n",
    "\n",
    "compl_tweet={}\n",
    "for tweet in new_tweets:\n",
    "    compl_tweet[tweet.text.split('-')[0].strip(), tweet.id] = tweet.text\n",
    "print(compl_tweet)\n",
    "\n",
    "for value in new_data2:\n",
    "    for num in compl_tweet.keys():\n",
    "        if value in Input_list and value == num[0]:\n",
    "                output.append(compl_tweet[num])\n",
    "        else:\n",
    "            pass\n",
    "print(output)\n",
    "\n",
    "## if file does not exist write header \n",
    "#if not os.path.isfile('filename.csv'):\n",
    "#    new_data.to_csv('filename.csv', index=False, header='column_names')\n",
    "#else: # else it exists so append without mentioning the header\n",
    "#    new_data.to_csv('filename.csv', mode='a', index=False, header=False)\n",
    "\n",
    "\n"
   ]
  },
  {
   "cell_type": "code",
   "execution_count": 315,
   "metadata": {},
   "outputs": [
    {
     "ename": "ValueError",
     "evalue": "Lengths must match to compare",
     "output_type": "error",
     "traceback": [
      "\u001b[1;31m---------------------------------------------------------------------------\u001b[0m",
      "\u001b[1;31mValueError\u001b[0m                                Traceback (most recent call last)",
      "\u001b[1;32m<ipython-input-315-71aec41d5cd0>\u001b[0m in \u001b[0;36m<module>\u001b[1;34m\u001b[0m\n\u001b[1;32m----> 1\u001b[1;33m \u001b[0mnew_data\u001b[0m\u001b[1;33m[\u001b[0m\u001b[0mnew_data\u001b[0m\u001b[1;33m[\u001b[0m\u001b[1;34m'tweetdate'\u001b[0m\u001b[1;33m]\u001b[0m \u001b[1;33m==\u001b[0m \u001b[1;33m[\u001b[0m\u001b[0mx\u001b[0m \u001b[1;32mfor\u001b[0m \u001b[0mx\u001b[0m \u001b[1;32min\u001b[0m \u001b[0mmain_data\u001b[0m\u001b[1;33m]\u001b[0m\u001b[1;33m]\u001b[0m\u001b[1;33m\u001b[0m\u001b[1;33m\u001b[0m\u001b[0m\n\u001b[0m",
      "\u001b[1;32m~\\AppData\\Local\\Continuum\\anaconda3\\lib\\site-packages\\pandas\\core\\ops\\__init__.py\u001b[0m in \u001b[0;36mwrapper\u001b[1;34m(self, other, axis)\u001b[0m\n\u001b[0;32m   1205\u001b[0m             \u001b[1;31m# as it will broadcast\u001b[0m\u001b[1;33m\u001b[0m\u001b[1;33m\u001b[0m\u001b[1;33m\u001b[0m\u001b[0m\n\u001b[0;32m   1206\u001b[0m             \u001b[1;32mif\u001b[0m \u001b[0mother\u001b[0m\u001b[1;33m.\u001b[0m\u001b[0mndim\u001b[0m \u001b[1;33m!=\u001b[0m \u001b[1;36m0\u001b[0m \u001b[1;32mand\u001b[0m \u001b[0mlen\u001b[0m\u001b[1;33m(\u001b[0m\u001b[0mself\u001b[0m\u001b[1;33m)\u001b[0m \u001b[1;33m!=\u001b[0m \u001b[0mlen\u001b[0m\u001b[1;33m(\u001b[0m\u001b[0mother\u001b[0m\u001b[1;33m)\u001b[0m\u001b[1;33m:\u001b[0m\u001b[1;33m\u001b[0m\u001b[1;33m\u001b[0m\u001b[0m\n\u001b[1;32m-> 1207\u001b[1;33m                 \u001b[1;32mraise\u001b[0m \u001b[0mValueError\u001b[0m\u001b[1;33m(\u001b[0m\u001b[1;34m\"Lengths must match to compare\"\u001b[0m\u001b[1;33m)\u001b[0m\u001b[1;33m\u001b[0m\u001b[1;33m\u001b[0m\u001b[0m\n\u001b[0m\u001b[0;32m   1208\u001b[0m \u001b[1;33m\u001b[0m\u001b[0m\n\u001b[0;32m   1209\u001b[0m             \u001b[0mres_values\u001b[0m \u001b[1;33m=\u001b[0m \u001b[0mna_op\u001b[0m\u001b[1;33m(\u001b[0m\u001b[0mself\u001b[0m\u001b[1;33m.\u001b[0m\u001b[0mvalues\u001b[0m\u001b[1;33m,\u001b[0m \u001b[0mnp\u001b[0m\u001b[1;33m.\u001b[0m\u001b[0masarray\u001b[0m\u001b[1;33m(\u001b[0m\u001b[0mother\u001b[0m\u001b[1;33m)\u001b[0m\u001b[1;33m)\u001b[0m\u001b[1;33m\u001b[0m\u001b[1;33m\u001b[0m\u001b[0m\n",
      "\u001b[1;31mValueError\u001b[0m: Lengths must match to compare"
     ]
    }
   ],
   "source": [
    "new_data[new_data['tweetdate'] == [x for x in main_data]]"
   ]
  },
  {
   "cell_type": "code",
   "execution_count": 290,
   "metadata": {},
   "outputs": [
    {
     "name": "stdout",
     "output_type": "stream",
     "text": [
      "<class 'pandas.core.frame.DataFrame'>\n",
      "RangeIndex: 10 entries, 0 to 9\n",
      "Data columns (total 3 columns):\n",
      "tweetid      10 non-null object\n",
      "tweetdate    10 non-null datetime64[ns]\n",
      "tweettext    10 non-null object\n",
      "dtypes: datetime64[ns](1), object(2)\n",
      "memory usage: 368.0+ bytes\n"
     ]
    }
   ],
   "source": [
    "new_data.info()"
   ]
  },
  {
   "cell_type": "code",
   "execution_count": 333,
   "metadata": {},
   "outputs": [
    {
     "data": {
      "text/plain": [
       "set()"
      ]
     },
     "execution_count": 333,
     "metadata": {},
     "output_type": "execute_result"
    }
   ],
   "source": [
    "main_data"
   ]
  },
  {
   "cell_type": "code",
   "execution_count": 218,
   "metadata": {},
   "outputs": [
    {
     "name": "stdout",
     "output_type": "stream",
     "text": [
      "RELHOME - Disclosures By Listed Entities Of Defaults On Payment Of Interest/ Repayment Of Principal Amount For Loan… https://t.co/FGZZ5oNrVI\n",
      "RELHOME - Disclosures By Listed Entities Of Defaults On Payment Of Interest/ Repayment Of Principal Amount For Loan… https://t.co/FGZZ5oNrVI\n",
      "STL - Certificate Under Regulation 7 (3) Of SEBI (Listing Obligations And Disclosure Requirements) Regulations, 201… https://t.co/M5ls1WXpDH\n",
      "STL - Certificate Under Regulation 7 (3) Of SEBI (Listing Obligations And Disclosure Requirements) Regulations, 201… https://t.co/M5ls1WXpDH\n",
      "['RELHOME - Disclosures By Listed Entities Of Defaults On Payment Of Interest/ Repayment Of Principal Amount For Loan… https://t.co/FGZZ5oNrVI', 'RELHOME - Disclosures By Listed Entities Of Defaults On Payment Of Interest/ Repayment Of Principal Amount For Loan… https://t.co/FGZZ5oNrVI', 'STL - Certificate Under Regulation 7 (3) Of SEBI (Listing Obligations And Disclosure Requirements) Regulations, 201… https://t.co/M5ls1WXpDH', 'STL - Certificate Under Regulation 7 (3) Of SEBI (Listing Obligations And Disclosure Requirements) Regulations, 201… https://t.co/M5ls1WXpDH', 'RELHOME - Disclosures By Listed Entities Of Defaults On Payment Of Interest/ Repayment Of Principal Amount For Loan… https://t.co/FGZZ5oNrVI', 'RELHOME - Disclosures By Listed Entities Of Defaults On Payment Of Interest/ Repayment Of Principal Amount For Loan… https://t.co/FGZZ5oNrVI', 'STL - Certificate Under Regulation 7 (3) Of SEBI (Listing Obligations And Disclosure Requirements) Regulations, 201… https://t.co/M5ls1WXpDH', 'STL - Certificate Under Regulation 7 (3) Of SEBI (Listing Obligations And Disclosure Requirements) Regulations, 201… https://t.co/M5ls1WXpDH']\n"
     ]
    }
   ],
   "source": [
    "for value in new_data2:\n",
    "    for num in compl_tweet.keys():\n",
    "        if value in Input_list and value == num:\n",
    "            print(compl_tweet[num])\n",
    "            output.append(compl_tweet[num])\n",
    "        else:\n",
    "            None\n",
    "print(output)"
   ]
  },
  {
   "cell_type": "code",
   "execution_count": 158,
   "metadata": {
    "scrolled": true
   },
   "outputs": [
    {
     "name": "stdout",
     "output_type": "stream",
     "text": [
      "{1256251799717076992, 1256247268933419008, 1256247021800787971}\n",
      "['SHEETAL', 'INDUSINDBK', 'NIITLTD']\n"
     ]
    },
    {
     "data": {
      "text/plain": [
       "False"
      ]
     },
     "execution_count": 158,
     "metadata": {},
     "output_type": "execute_result"
    }
   ],
   "source": [
    "print(main_data)\n",
    "new_data2 = []\n",
    "if len(main_data) != 0:\n",
    "    for id in main_data:\n",
    "        ref = new_data[new_data['tweetid'] == id]['tweettext']\n",
    "        for index, value in ref.items():\n",
    "            new_data2.append(value)\n",
    "\n",
    "print(new_data2)\n",
    "['INDUSINDBK'] in new_data2"
   ]
  },
  {
   "cell_type": "code",
   "execution_count": 334,
   "metadata": {},
   "outputs": [
    {
     "data": {
      "text/html": [
       "<div>\n",
       "<style scoped>\n",
       "    .dataframe tbody tr th:only-of-type {\n",
       "        vertical-align: middle;\n",
       "    }\n",
       "\n",
       "    .dataframe tbody tr th {\n",
       "        vertical-align: top;\n",
       "    }\n",
       "\n",
       "    .dataframe thead th {\n",
       "        text-align: right;\n",
       "    }\n",
       "</style>\n",
       "<table border=\"1\" class=\"dataframe\">\n",
       "  <thead>\n",
       "    <tr style=\"text-align: right;\">\n",
       "      <th></th>\n",
       "      <th>tweetid</th>\n",
       "      <th>tweetdate</th>\n",
       "      <th>tweettext</th>\n",
       "    </tr>\n",
       "  </thead>\n",
       "  <tbody>\n",
       "    <tr>\n",
       "      <td>0</td>\n",
       "      <td>1256294580862906369</td>\n",
       "      <td>2020-05-01 18:49:03</td>\n",
       "      <td>NDTV</td>\n",
       "    </tr>\n",
       "    <tr>\n",
       "      <td>1</td>\n",
       "      <td>1256286528847794177</td>\n",
       "      <td>2020-05-01 18:17:03</td>\n",
       "      <td>KSB</td>\n",
       "    </tr>\n",
       "    <tr>\n",
       "      <td>2</td>\n",
       "      <td>1256285521006882816</td>\n",
       "      <td>2020-05-01 18:13:03</td>\n",
       "      <td>WABAG</td>\n",
       "    </tr>\n",
       "    <tr>\n",
       "      <td>3</td>\n",
       "      <td>1256283759571165184</td>\n",
       "      <td>2020-05-01 18:06:03</td>\n",
       "      <td>ITHL</td>\n",
       "    </tr>\n",
       "    <tr>\n",
       "      <td>4</td>\n",
       "      <td>1256283256401481729</td>\n",
       "      <td>2020-05-01 18:04:03</td>\n",
       "      <td>RELINFRA</td>\n",
       "    </tr>\n",
       "    <tr>\n",
       "      <td>5</td>\n",
       "      <td>1256279229487935488</td>\n",
       "      <td>2020-05-01 17:48:03</td>\n",
       "      <td>SURYAAMBA</td>\n",
       "    </tr>\n",
       "    <tr>\n",
       "      <td>6</td>\n",
       "      <td>1256278978182156288</td>\n",
       "      <td>2020-05-01 17:47:03</td>\n",
       "      <td>HCLTECH</td>\n",
       "    </tr>\n",
       "    <tr>\n",
       "      <td>7</td>\n",
       "      <td>1256278475096223746</td>\n",
       "      <td>2020-05-01 17:45:03</td>\n",
       "      <td>SURYAAMBA</td>\n",
       "    </tr>\n",
       "    <tr>\n",
       "      <td>8</td>\n",
       "      <td>1256274951700533250</td>\n",
       "      <td>2020-05-01 17:31:03</td>\n",
       "      <td>RELHOME</td>\n",
       "    </tr>\n",
       "    <tr>\n",
       "      <td>9</td>\n",
       "      <td>1256273694315343873</td>\n",
       "      <td>2020-05-01 17:26:03</td>\n",
       "      <td>XTGLOBAL</td>\n",
       "    </tr>\n",
       "  </tbody>\n",
       "</table>\n",
       "</div>"
      ],
      "text/plain": [
       "               tweetid            tweetdate  tweettext\n",
       "0  1256294580862906369  2020-05-01 18:49:03       NDTV\n",
       "1  1256286528847794177  2020-05-01 18:17:03        KSB\n",
       "2  1256285521006882816  2020-05-01 18:13:03      WABAG\n",
       "3  1256283759571165184  2020-05-01 18:06:03       ITHL\n",
       "4  1256283256401481729  2020-05-01 18:04:03   RELINFRA\n",
       "5  1256279229487935488  2020-05-01 17:48:03  SURYAAMBA\n",
       "6  1256278978182156288  2020-05-01 17:47:03    HCLTECH\n",
       "7  1256278475096223746  2020-05-01 17:45:03  SURYAAMBA\n",
       "8  1256274951700533250  2020-05-01 17:31:03    RELHOME\n",
       "9  1256273694315343873  2020-05-01 17:26:03   XTGLOBAL"
      ]
     },
     "execution_count": 334,
     "metadata": {},
     "output_type": "execute_result"
    }
   ],
   "source": [
    "new_data"
   ]
  },
  {
   "cell_type": "code",
   "execution_count": 209,
   "metadata": {},
   "outputs": [
    {
     "name": "stdout",
     "output_type": "stream",
     "text": [
      "SURYAAMBA - Compliance Certificate Under Regulation 7(3) Of The SEBI (Listing Obligations And Disclosures Requireme… https://t.co/dM8Jjb0Gag\n",
      "RELHOME - Disclosures By Listed Entities Of Defaults On Payment Of Interest/ Repayment Of Principal Amount For Loan… https://t.co/g1Pfu702QN\n",
      "XTGLOBAL - Compliance Under Regulation 32 Of SEBI (Listing Obligations And Disclosure Requirements) Regulations, 20… https://t.co/lATUV5wNyR\n",
      "RELHOME - Disclosures By Listed Entities Of Defaults On Payment Of Interest/ Repayment Of Principal Amount For Loan… https://t.co/FGZZ5oNrVI\n",
      "MARICO - Announcement under Regulation 30 (LODR)-Analyst / Investor Meet - Intimation https://t.co/DK7k7WcRJu\n",
      "STARCOM - Closure of Trading Window https://t.co/RcsZ0d2PAF\n",
      "STL - Certificate Under Regulation 40(9) Of SEBI (Listing Obligations And Disclosure Requirements) Regulations, 201… https://t.co/8J6BzbpoTF\n",
      "STL - Certificate Under Regulation 7 (3) Of SEBI (Listing Obligations And Disclosure Requirements) Regulations, 201… https://t.co/M5ls1WXpDH\n",
      "DIANATEA - Compliance Certificate For The Period Ended 31St March, 2020 https://t.co/LyMxvARGz5\n",
      "CGCL - Board Meeting Intimation for Intimation Of The Board Meeting To Be Held On Saturday,           May 9, 2020&lt;B… https://t.co/xo3Tpp0Ch0\n"
     ]
    }
   ],
   "source": [
    "for tweet in new_tweets:\n",
    "    print(tweet.text)"
   ]
  },
  {
   "cell_type": "code",
   "execution_count": 155,
   "metadata": {},
   "outputs": [
    {
     "ename": "ValueError",
     "evalue": "not enough values to unpack (expected 2, got 1)",
     "output_type": "error",
     "traceback": [
      "\u001b[1;31m---------------------------------------------------------------------------\u001b[0m",
      "\u001b[1;31mValueError\u001b[0m                                Traceback (most recent call last)",
      "\u001b[1;32m<ipython-input-155-931988e8c822>\u001b[0m in \u001b[0;36m<module>\u001b[1;34m\u001b[0m\n\u001b[0;32m      1\u001b[0m \u001b[0mnew_data2\u001b[0m\u001b[1;33m\u001b[0m\u001b[1;33m\u001b[0m\u001b[0m\n\u001b[0;32m      2\u001b[0m \u001b[0mxyz\u001b[0m\u001b[1;33m=\u001b[0m\u001b[1;33m[\u001b[0m\u001b[1;33m]\u001b[0m\u001b[1;33m\u001b[0m\u001b[1;33m\u001b[0m\u001b[0m\n\u001b[1;32m----> 3\u001b[1;33m \u001b[1;32mfor\u001b[0m \u001b[0mindex\u001b[0m\u001b[1;33m,\u001b[0m \u001b[0mvalue\u001b[0m \u001b[1;32min\u001b[0m \u001b[0mnew_data2\u001b[0m\u001b[1;33m:\u001b[0m\u001b[1;33m\u001b[0m\u001b[1;33m\u001b[0m\u001b[0m\n\u001b[0m\u001b[0;32m      4\u001b[0m     \u001b[0mxyz\u001b[0m\u001b[1;33m.\u001b[0m\u001b[0mappend\u001b[0m\u001b[1;33m(\u001b[0m\u001b[0mvalue\u001b[0m\u001b[1;33m)\u001b[0m\u001b[1;33m\u001b[0m\u001b[1;33m\u001b[0m\u001b[0m\n",
      "\u001b[1;31mValueError\u001b[0m: not enough values to unpack (expected 2, got 1)"
     ]
    }
   ],
   "source": [
    "new_data2\n",
    "xyz=[]\n",
    "for index, value in new_data2:\n",
    "    xyz.append(value)"
   ]
  },
  {
   "cell_type": "code",
   "execution_count": 229,
   "metadata": {},
   "outputs": [
    {
     "name": "stdout",
     "output_type": "stream",
     "text": [
      "1256279229487935488 2020-05-01 17:48:03 SURYAAMBA - Compliances-Certificate under Reg. 74 (5) of SEBI (DP) Regulations, 2018 https://t.co/18v3Hcw1ol\n",
      "1256278978182156288 2020-05-01 17:47:03 HCLTECH - Conference Call On The Financial Results For The Quarter And Financial Year Ended March 31, 2020 https://t.co/i8DbkReVFG\n",
      "1256278475096223746 2020-05-01 17:45:03 SURYAAMBA - Compliance Certificate Under Regulation 7(3) Of The SEBI (Listing Obligations And Disclosures Requireme… https://t.co/dM8Jjb0Gag\n",
      "1256274951700533250 2020-05-01 17:31:03 RELHOME - Disclosures By Listed Entities Of Defaults On Payment Of Interest/ Repayment Of Principal Amount For Loan… https://t.co/g1Pfu702QN\n",
      "RELHOME\n",
      "1256273694315343873 2020-05-01 17:26:03 XTGLOBAL - Compliance Under Regulation 32 Of SEBI (Listing Obligations And Disclosure Requirements) Regulations, 20… https://t.co/lATUV5wNyR\n",
      "1256272183707308033 2020-05-01 17:20:03 RELHOME - Disclosures By Listed Entities Of Defaults On Payment Of Interest/ Repayment Of Principal Amount For Loan… https://t.co/FGZZ5oNrVI\n",
      "RELHOME\n",
      "1256268408909262848 2020-05-01 17:05:03 MARICO - Announcement under Regulation 30 (LODR)-Analyst / Investor Meet - Intimation https://t.co/DK7k7WcRJu\n",
      "1256267905110388736 2020-05-01 17:03:03 STARCOM - Closure of Trading Window https://t.co/RcsZ0d2PAF\n",
      "1256262620346114048 2020-05-01 16:42:03 STL - Certificate Under Regulation 40(9) Of SEBI (Listing Obligations And Disclosure Requirements) Regulations, 201… https://t.co/8J6BzbpoTF\n",
      "STL\n",
      "1256261614891790337 2020-05-01 16:38:03 STL - Certificate Under Regulation 7 (3) Of SEBI (Listing Obligations And Disclosure Requirements) Regulations, 201… https://t.co/M5ls1WXpDH\n",
      "STL\n"
     ]
    }
   ],
   "source": [
    "with open('outfile.txt', 'w') as outfile:\n",
    "    new_tweets = api.user_timeline(screen_name = 'BSE_News', count=10)\n",
    "    for tweet in new_tweets:\n",
    "        print (tweet.id, tweet.created_at, tweet.text)\n",
    "        if tweet.id in old_tweetid:\n",
    "            pass\n",
    "        else:\n",
    "            tweet1 = tweet.text.split('-')[0].strip()\n",
    "            for i in Input_list:\n",
    "                if i in tweet1:\n",
    "                    print(tweet1)\n",
    "                    output.append(tweet.text)\n",
    "                else:\n",
    "                    None\n",
    "        old_tweetid.add(tweet.id)\n",
    "        outfile.write('%d\\n' %int(tweet.id))\n",
    "#for tw in old_tweetid:\n",
    "#    outfile.write(str(tw))"
   ]
  },
  {
   "cell_type": "code",
   "execution_count": 230,
   "metadata": {},
   "outputs": [],
   "source": [
    "list=[1,2,3,4,5,5,4,3,2,1,3,5]"
   ]
  },
  {
   "cell_type": "code",
   "execution_count": 238,
   "metadata": {},
   "outputs": [
    {
     "data": {
      "text/plain": [
       "{1, 2, 3, 4, 5}"
      ]
     },
     "execution_count": 238,
     "metadata": {},
     "output_type": "execute_result"
    }
   ],
   "source": [
    "set(list)"
   ]
  },
  {
   "cell_type": "code",
   "execution_count": null,
   "metadata": {},
   "outputs": [],
   "source": [
    "# Code for Sending Text message to mobile\n",
    "\n",
    "import requests\n",
    "import json\n",
    "\n",
    "URL = 'https://www.sms4india.com/api/v1/sendCampaign'\n",
    "\n",
    "apikey='E3GIAH1G0FBX70SXY5VKZUPVRYEOGLGV'\n",
    "secretkey='LQNHMM85ZEAJ60VU'\n",
    "useType='stage'\n",
    "phoneNo='8105535588'\n",
    "senderId='SMSIND'\n",
    "textMessage=str(output)\n",
    "\n",
    "# get request\n",
    "def sendPostRequest(reqUrl, apiKey, secretKey, useType, phoneNo, senderId, textMessage):\n",
    "    req_params = {\n",
    "    'apikey':apiKey,\n",
    "    'secret':secretKey,\n",
    "    'usetype':useType,\n",
    "    'phone': phoneNo,\n",
    "    'senderid':senderId,\n",
    "    'message':textMessage\n",
    "    }\n",
    "    return requests.post(reqUrl, req_params)\n",
    "\n",
    "# get response\n",
    "if len(output) == 0:\n",
    "    print (\"No change observed\")\n",
    "else:\n",
    "    print (\"Changes observed\")\n",
    "    response = sendPostRequest(URL, apikey, secretkey, useType, phoneNo, senderId, textMessage)\n",
    "\n",
    "# print response if you want\n",
    "print(response.text)\n"
   ]
  },
  {
   "cell_type": "code",
   "execution_count": null,
   "metadata": {},
   "outputs": [],
   "source": []
  },
  {
   "cell_type": "code",
   "execution_count": null,
   "metadata": {},
   "outputs": [],
   "source": []
  }
 ],
 "metadata": {
  "kernelspec": {
   "display_name": "Python 3",
   "language": "python",
   "name": "python3"
  },
  "language_info": {
   "codemirror_mode": {
    "name": "ipython",
    "version": 3
   },
   "file_extension": ".py",
   "mimetype": "text/x-python",
   "name": "python",
   "nbconvert_exporter": "python",
   "pygments_lexer": "ipython3",
   "version": "3.7.3"
  }
 },
 "nbformat": 4,
 "nbformat_minor": 2
}
