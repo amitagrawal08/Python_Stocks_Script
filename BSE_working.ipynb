{
 "cells": [
  {
   "cell_type": "code",
   "execution_count": null,
   "metadata": {},
   "outputs": [],
   "source": [
    "import pandas as pd\n",
    "import numpy as np\n",
    "import requests\n",
    "from bs4 import BeautifulSoup\n",
    "import re"
   ]
  },
  {
   "cell_type": "code",
   "execution_count": null,
   "metadata": {
    "scrolled": true
   },
   "outputs": [],
   "source": [
    "Input_list=['HINDUNILVR','LAURUSLABS','RELIANCE','SIS','TECHM','BLUESTARCO','JUSTDIAL','BIRLAMONEY']\n",
    "url=\"https://stockinforce.com/tweetuser/288194904/bse_news\"\n",
    "output=[]\n",
    "r = requests.get(url)\n",
    "soup=BeautifulSoup(r.content, 'html5lib')\n",
    "soup.prettify()\n",
    "#soup1=soup.find_all('div', attrs={'id':'trowTweets'})\n",
    "#soup.find_all('div', attrs={'id':'carousel-anouncement', 'class':'carousel-inner vertical'})\n",
    "#soup2=soup.find_all('a', attrs={'href': re.compile(\"^https://t.co\")})\n",
    "#soup2\n",
    "for para in soup.find_all('a', attrs={'href': re.compile(\"^https://t.co\")}):\n",
    "    #print(para.get_text())\n",
    "    for i in Input_list:\n",
    "        if i in para.get_text():\n",
    "            print(para.get_text().strip())\n",
    "            output.append(para.get_text().strip())\n",
    "        else:\n",
    "            None\n",
    "\n",
    "# Code for Sending Text message to mobile\n",
    "\n",
    "import requests\n",
    "import json\n",
    "\n",
    "URL = 'https://www.sms4india.com/api/v1/sendCampaign'\n",
    "\n",
    "apikey='E3GIAH1G0FBX70SXY5VKZUPVRYEOGLGV'\n",
    "secretkey='LQNHMM85ZEAJ60VU'\n",
    "useType='stage'\n",
    "phoneNo='8105535588'\n",
    "senderId='SMSIND'\n",
    "textMessage=output\n",
    "\n",
    "# get request\n",
    "def sendPostRequest(reqUrl, apiKey, secretKey, useType, phoneNo, senderId, textMessage):\n",
    "    req_params = {\n",
    "    'apikey':apiKey,\n",
    "    'secret':secretKey,\n",
    "    'usetype':useType,\n",
    "    'phone': phoneNo,\n",
    "    'senderid':senderId,\n",
    "    'message':textMessage\n",
    "    }\n",
    "    return requests.post(reqUrl, req_params)\n",
    "\n",
    "# get response\n",
    "if len(output) == 0:\n",
    "    print (\"No change observed\")\n",
    "else:\n",
    "    print (\"Changes observed\")\n",
    "    response = sendPostRequest(URL, apikey, secretkey, useType, phoneNo, senderId, textMessage)\n",
    "\n",
    "# print response if you want\n",
    "print(response.text)\n"
   ]
  },
  {
   "cell_type": "code",
   "execution_count": null,
   "metadata": {},
   "outputs": [],
   "source": [
    "output"
   ]
  },
  {
   "cell_type": "code",
   "execution_count": null,
   "metadata": {},
   "outputs": [],
   "source": [
    "7906334114"
   ]
  },
  {
   "cell_type": "code",
   "execution_count": null,
   "metadata": {},
   "outputs": [],
   "source": [
    "import http.cookiejar\n",
    "import urllib3\n",
    "from getpass import getpass\n",
    "import sys\n",
    "import urlopen\n",
    "from urllib.parse import urlencode\n",
    "from getopt import getopt\n",
    "\n",
    "username = None\n",
    "passwd = None\n",
    "message = None\n",
    "number = None\n",
    "\n",
    "#def Usage():\n",
    "#    print '\\t-h, --help:  View help'\n",
    "#    print '\\t-u, --username: Username'\n",
    "#    print '\\t-p, --password: Password'\n",
    "#    print '\\t-n, --number: numbber to send the sms'\n",
    "#    print '\\t-m, --message: Message to send'\n",
    "#    sys.exit(1)\n",
    "#\n",
    "#opts, args = getopt(sys.argv[1:], 'u:p:m:n:h',[\"username=\",\"password=\",\"message=\",\"number=\",\"help\"])\n",
    "\n",
    "#for o,v in opts:\n",
    "#    if o in (\"-h\", \"--help\"):\n",
    "#        Usage()\n",
    "#    elif o in (\"-u\", \"--username\"):\n",
    "#        username = v\n",
    "#        ask_username = False\n",
    "#    elif o in (\"-p\", \"--password\"):\n",
    "#        passwd = v\n",
    "#        ask_password = False\n",
    "#    elif o in (\"-m\", \"--message\"):\n",
    "#        message = v\n",
    "#        ask_message = False\n",
    "#    elif o in (\"-n\", \"--number\"):\n",
    "#        number = v\n",
    "#        ask_number = False\n",
    "\n",
    "##Credentials taken here\n",
    "#if username is None: username = raw_input(\"Enter USERNAME: \")\n",
    "#if passwd is None: passwd = getpass()\n",
    "#if message is None: message = raw_input(\"Enter Message: \")\n",
    "#if number is None: number = raw_input(\"Enter Mobile number: \")\n",
    "\n",
    "username='7983001266'\n",
    "passwd='Idea@12345'\n",
    "message='Hello Amit'\n",
    "number='8105535588'\n",
    "    \n",
    "#Logging into the SMS Site\n",
    "url = 'http://wwwb.way2sms.com//auth.cl'\n",
    "data = 'username='+username+'&password='+passwd+'&Submit=Sign+in'\n",
    "\n",
    "#Remember, Cookies are to be handled\n",
    "cj = http.cookiejar.CookieJar()\n",
    "opener = urlopen.auth_handler(urllib3.HTTPCookieProcessor(cj))\n",
    "\n",
    "# To fool way2sms as if a Web browser is visiting the site\n",
    "opener.addheaders = [('User-Agent','Mozilla/5.0 (X11; U; Linux x86_64; en-US; rv:1.9.1.3) Gecko/20091020 Ubuntu/9.10 (karmic) Firefox/3.5.3 GTB7.0')]\n",
    "\n",
    "try:\n",
    "    usock = opener.open(url, data)\n",
    "except IOError:\n",
    "    print(\"Check your internet connection\")\n",
    "    sys.exit(1)\n",
    "\n",
    "#urlencode performed.. Because it was done by the site as i checked through HTTP headers\n",
    "message = urlencode({'message':message})\n",
    "message = message[message.find(\"=\")+1:]\n",
    "\n",
    "#SMS sending\n",
    "send_sms_url = 'http://wwwb.way2sms.com//FirstServletsms?custid='\n",
    "send_sms_data = 'custid=undefined&HiddenAction=instantsms&Action=custfrom950000&login=&pass=&MobNo='+number+'&textArea='+message\n",
    "opener.addheaders = [('Referer','http://wwwb.way2sms.com//jsp/InstantSMS.jsp?val=0')]\n",
    "\n",
    "try:\n",
    "    sms_sent_page = opener.open(send_sms_url,send_sms_data)\n",
    "except IOError:\n",
    "    print(\"Check your internet connection\")\n",
    "    sys.exit(1)\n",
    "    print(\"SMS sent!!!\")"
   ]
  },
  {
   "cell_type": "code",
   "execution_count": null,
   "metadata": {},
   "outputs": [],
   "source": [
    "import requests\n",
    "import json\n",
    "\n",
    "URL = 'https://www.sms4india.com/api/v1/sendCampaign'\n",
    "\n",
    "apikey='E3GIAH1G0FBX70SXY5VKZUPVRYEOGLGV'\n",
    "secretkey='LQNHMM85ZEAJ60VU'\n",
    "useType='stage'\n",
    "phoneNo='7906334114'\n",
    "senderId='SMSIND'\n",
    "textMessage=output\n",
    "\n",
    "# get request\n",
    "def sendPostRequest(reqUrl, apiKey, secretKey, useType, phoneNo, senderId, textMessage):\n",
    "    req_params = {\n",
    "    'apikey':apiKey,\n",
    "    'secret':secretKey,\n",
    "    'usetype':useType,\n",
    "    'phone': phoneNo,\n",
    "    'senderid':senderId,\n",
    "    'message':textMessage\n",
    "    }\n",
    "    return requests.post(reqUrl, req_params)\n",
    "\n",
    "# get response\n",
    "response = sendPostRequest(URL, apikey, secretkey, useType, phoneNo, senderId, textMessage)\n",
    "\n",
    "# print response if you want\n",
    "print(response.text)"
   ]
  },
  {
   "cell_type": "code",
   "execution_count": 154,
   "metadata": {
    "scrolled": true
   },
   "outputs": [
    {
     "name": "stdout",
     "output_type": "stream",
     "text": [
      "Authentication OK\n",
      "1256204235462438913 2020-05-01 12:50:03 SACHEMT - Disclosure Of Standalone Audited Financial Result For The Quarter And Year Ended 31.03.2020, Pursuant To… https://t.co/dswVGI0XvJ\n",
      "1256203731877548033 2020-05-01 12:48:03 SETCO - Certificate Under Regulation 40 (9) Of SEBI (LODR) Regulations, 2015 https://t.co/UhzBsafWBr\n",
      "1256202977527775233 2020-05-01 12:45:03 CAPPIPES - Statement Of Investor Complaints For The Quarter Ended March 2020 https://t.co/JDpSnEtJjF\n",
      "1256202725198446597 2020-05-01 12:44:03 POWERGRID - Announcement under Regulation 30 (LODR)-Cessation https://t.co/BGaS7n3ioY\n",
      "1256202221932273666 2020-05-01 12:42:03 CAPPIPES - Certificate Pursuant To Regulation 40(9)  Of  SEBI LODR, 2015  For Half Year Ended On 31ST  March, 2020  https://t.co/m6AG3gwC3q\n",
      "1256201718343233537 2020-05-01 12:40:03 TWL - NCLT Convened Meeting https://t.co/ets5EJ5dsC\n",
      "1256201215051837442 2020-05-01 12:38:03 CAPPIPES - Compliances-Certificate under Reg. 74 (5) of SEBI (DP) Regulations, 2018 https://t.co/Te3eVt50AB\n",
      "1256199705538621444 2020-05-01 12:32:03 BRAHMINFRA - Announcement under Regulation 30 (LODR)-Appointment of Statutory Auditor/s https://t.co/4ECB2g3ITV\n",
      "1256199454266294278 2020-05-01 12:31:03 RODIUM - Format of Initial Disclosure to be made by an entity identified as a Large Corporate https://t.co/Lbi16zfLYh\n",
      "1256198950714892290 2020-05-01 12:29:03 VASCONEQ - Announcement Under Regulation 30 SEBI(LODR), 2015- Updates- Outcome Of Board Meeting https://t.co/zct1HKWvM4\n"
     ]
    }
   ],
   "source": [
    "import tweepy\n",
    "import pandas as pd\n",
    "import os\n",
    "from tweepy.streaming import StreamListener\n",
    "\n",
    "Input_list = ['HINDUNILVR','LAURUSLABS','RELIANCE','SIS','TECHM','BLUESTARCO','JUSTDIAL','BIRLAMONEY','EUROASIA','ZEAL']\n",
    "output = []\n",
    "old_tweetid=set()\n",
    "\n",
    "CONSUMER_KEY=\"HIgeXNsl8uVMWKwGZmcTRnygz\"\n",
    "CONSUMER_SECRET=\"nyeodxBad7kPsxlNqXMbvKSZpIHolp2ghVgfNx4hzbGoZJym6E\"\n",
    "ACCESS_TOKEN=\"467586857-O6VdHaNXBkt3MrdaPVLQSnJQJAePO0Q1bS608Lw5\"\n",
    "ACCESS_TOKEN_SECRET=\"xVYczsZrHaHlHuVWbTMnQ7phlIVFl2quR5L6RGUDCAweJ\"\n",
    "\n",
    "# Authenticate to Twitter\n",
    "auth = tweepy.OAuthHandler(CONSUMER_KEY, CONSUMER_SECRET)\n",
    "auth.set_access_token(ACCESS_TOKEN,ACCESS_TOKEN_SECRET)\n",
    "\n",
    "api = tweepy.API(auth)\n",
    "\n",
    "try:\n",
    "    api.verify_credentials()\n",
    "    print(\"Authentication OK\")\n",
    "except:\n",
    "    print(\"Error during authentication\")\n",
    "\n",
    "with open('outfile.txt', 'w') as outfile:\n",
    "    new_tweets = api.user_timeline(screen_name = 'BSE_News', count=10)\n",
    "    for tweet in new_tweets:\n",
    "        print (tweet.id, tweet.created_at, tweet.text)\n",
    "        if tweet.id in old_tweetid:\n",
    "            pass\n",
    "        else:\n",
    "            tweet1 = tweet.text.split('-')[0].strip()\n",
    "            for i in Input_list:\n",
    "                if i in tweet1:\n",
    "                    print(tweet1)\n",
    "                    output.append(tweet.text)\n",
    "                else:\n",
    "                    None\n",
    "        old_tweetid.add(tweet.id)\n",
    "        outfile.write('%d\\n' %int(tweet.id))\n",
    "#for tw in old_tweetid:\n",
    "#    outfile.write(str(tw))"
   ]
  },
  {
   "cell_type": "code",
   "execution_count": 152,
   "metadata": {},
   "outputs": [
    {
     "data": {
      "text/plain": [
       "{1256198950714892290,\n",
       " 1256199454266294278,\n",
       " 1256199705538621444,\n",
       " 1256201215051837442,\n",
       " 1256201718343233537,\n",
       " 1256202221932273666,\n",
       " 1256202725198446597,\n",
       " 1256202977527775233,\n",
       " 1256203731877548033,\n",
       " 1256204235462438913}"
      ]
     },
     "execution_count": 152,
     "metadata": {},
     "output_type": "execute_result"
    }
   ],
   "source": [
    "old_tweetid"
   ]
  },
  {
   "cell_type": "code",
   "execution_count": 153,
   "metadata": {},
   "outputs": [
    {
     "data": {
      "text/plain": [
       "[]"
      ]
     },
     "execution_count": 153,
     "metadata": {},
     "output_type": "execute_result"
    }
   ],
   "source": [
    "output"
   ]
  },
  {
   "cell_type": "code",
   "execution_count": null,
   "metadata": {},
   "outputs": [],
   "source": [
    "# Code for Sending Text message to mobile\n",
    "\n",
    "import requests\n",
    "import json\n",
    "\n",
    "URL = 'https://www.sms4india.com/api/v1/sendCampaign'\n",
    "\n",
    "apikey='E3GIAH1G0FBX70SXY5VKZUPVRYEOGLGV'\n",
    "secretkey='LQNHMM85ZEAJ60VU'\n",
    "useType='stage'\n",
    "phoneNo='8105535588'\n",
    "senderId='SMSIND'\n",
    "textMessage=str(output)\n",
    "\n",
    "# get request\n",
    "def sendPostRequest(reqUrl, apiKey, secretKey, useType, phoneNo, senderId, textMessage):\n",
    "    req_params = {\n",
    "    'apikey':apiKey,\n",
    "    'secret':secretKey,\n",
    "    'usetype':useType,\n",
    "    'phone': phoneNo,\n",
    "    'senderid':senderId,\n",
    "    'message':textMessage\n",
    "    }\n",
    "    return requests.post(reqUrl, req_params)\n",
    "\n",
    "# get response\n",
    "if len(output) == 0:\n",
    "    print (\"No change observed\")\n",
    "else:\n",
    "    print (\"Changes observed\")\n",
    "    response = sendPostRequest(URL, apikey, secretkey, useType, phoneNo, senderId, textMessage)\n",
    "\n",
    "# print response if you want\n",
    "# print(response.text)\n"
   ]
  },
  {
   "cell_type": "code",
   "execution_count": 74,
   "metadata": {},
   "outputs": [
    {
     "data": {
      "text/plain": [
       "'EUROASIA - Certificate Under Regulation 74 [5) Of The SEBI [Depositories And Participants) Regulations, 2018 For Th… https://t.co/HcSfACtDmZ\\n  '"
      ]
     },
     "execution_count": 74,
     "metadata": {},
     "output_type": "execute_result"
    }
   ],
   "source": [
    "result=''\n",
    "NEWLINE = '\\n  '\n",
    "for out in output:\n",
    "    result+= str(out) + NEWLINE\n",
    "result"
   ]
  },
  {
   "cell_type": "code",
   "execution_count": null,
   "metadata": {},
   "outputs": [],
   "source": [
    "# Streaming Tweets  \n",
    "\n",
    "#override tweepy.StreamListener to add logic to on_status\n",
    "class MyStreamListener(tweepy.StreamListener):\n",
    "    def on_status(self, status):\n",
    "        print(status.text)\n",
    "\n",
    "# Initialize Stream listener\n",
    "l = MyStreamListener()\n",
    "\n",
    "# Create you Stream object with authentication\n",
    "stream = tweepy.Stream(auth, l)\n",
    "\n",
    "# Filter Twitter Streams to capture data by the keywords:\n",
    "stream.filter(track = ['BSE_News'])"
   ]
  },
  {
   "cell_type": "code",
   "execution_count": null,
   "metadata": {},
   "outputs": [],
   "source": [
    "class StreamListener(tweepy.StreamListener):\n",
    "    def on_status(self, status):\n",
    "        print(status.id_str)\n",
    "    \n",
    "    def on_error(self, status_code):\n",
    "        print(\"Encountered streaming error (\", status_code, \")\")\n",
    "        sys.exit()\n",
    "\n",
    "streamListener = StreamListener()\n",
    "stream = tweepy.Stream(auth=api.auth, listener= streamListener, tweet_mode='extended')\n",
    "tags=['Modi']\n",
    "stream.filter(track=tags)"
   ]
  },
  {
   "cell_type": "code",
   "execution_count": null,
   "metadata": {},
   "outputs": [],
   "source": [
    "import requests\n",
    "from bs4 import BeautifulSoup\n",
    "\n",
    "timeline = api.user_timeline(user_id='BSE_News', count=200)\n",
    "timeline"
   ]
  },
  {
   "cell_type": "code",
   "execution_count": null,
   "metadata": {},
   "outputs": [],
   "source": [
    "search = tweepy.Cursor(api.search, q=\"BSE Corporate News\", result_type=\"recent\", lang=\"en\").items(10)\n",
    "for item in search:\n",
    "    print (item.text)\n",
    "new_tweets"
   ]
  },
  {
   "cell_type": "code",
   "execution_count": null,
   "metadata": {
    "scrolled": true
   },
   "outputs": [],
   "source": [
    "alltweets = []\n",
    "new_tweets = api.user_timeline(screen_name = 'BSE_News', count=10)\n",
    "for tweet in new_tweets:\n",
    "    print(tweet.created_at, tweet.text)"
   ]
  },
  {
   "cell_type": "code",
   "execution_count": null,
   "metadata": {},
   "outputs": [],
   "source": [
    "def stream_tweets(search_term):\n",
    "    data = [] # empty list to which tweet_details obj will be added\n",
    "    counter = 0 # counter to keep track of each iteration\n",
    "    for tweet in new_tweets:\n",
    "        tweet_details = {}\n",
    "        tweet_details['name'] = tweet.user.screen_name\n",
    "        tweet_details['tweet'] = tweet.user.description\n",
    "        tweet_details['retweets'] = tweet.retweet_count\n",
    "        tweet_details['location'] = tweet.user.location\n",
    "        tweet_details['created'] = tweet.created_at.strftime(\"%d-%b-%Y\")\n",
    "        tweet_details['followers'] = tweet.user.followers_count\n",
    "        tweet_details['is_user_verified'] = tweet.user.verified        \n",
    "        data.append(tweet_details)\n",
    "        \n",
    "        counter += 1\n",
    "        if counter == 1000:\n",
    "            break\n",
    "        else:\n",
    "            pass\n",
    "#    with open('data/{}.json'.format(search_term), 'w') as f:\n",
    "#        json.dump(data, f)\n",
    "#    print('done!')"
   ]
  },
  {
   "cell_type": "code",
   "execution_count": null,
   "metadata": {},
   "outputs": [],
   "source": [
    "stream_tweets('BSE_News')"
   ]
  },
  {
   "cell_type": "code",
   "execution_count": null,
   "metadata": {},
   "outputs": [],
   "source": [
    "data"
   ]
  },
  {
   "cell_type": "code",
   "execution_count": null,
   "metadata": {},
   "outputs": [],
   "source": [
    "#keep grabbing tweets until there are no tweets left to grab\n",
    "while len(new_tweets) > 0:\n",
    "    print(\"getting tweets before %s\" % (oldest))\n",
    "    \n",
    "    #all subsiquent requests use the max_id param to prevent duplicates\n",
    "    new_tweets = api.user_timeline(screen_name = 'BSE_News',count=200,max_id=oldest)\n",
    "    \n",
    "    #save most recent tweets\n",
    "    alltweets.extend(new_tweets)\n",
    "    \n",
    "    #update the id of the oldest tweet less one\n",
    "    oldest = alltweets[-1].id - 1\n",
    "    \n",
    "    print(\"...%s tweets downloaded so far\" % (len(alltweets)))"
   ]
  },
  {
   "cell_type": "code",
   "execution_count": null,
   "metadata": {},
   "outputs": [],
   "source": []
  },
  {
   "cell_type": "code",
   "execution_count": null,
   "metadata": {},
   "outputs": [],
   "source": []
  },
  {
   "cell_type": "code",
   "execution_count": null,
   "metadata": {},
   "outputs": [],
   "source": []
  },
  {
   "cell_type": "code",
   "execution_count": null,
   "metadata": {},
   "outputs": [],
   "source": []
  },
  {
   "cell_type": "code",
   "execution_count": null,
   "metadata": {},
   "outputs": [],
   "source": []
  },
  {
   "cell_type": "code",
   "execution_count": null,
   "metadata": {},
   "outputs": [],
   "source": []
  },
  {
   "cell_type": "code",
   "execution_count": null,
   "metadata": {},
   "outputs": [],
   "source": []
  },
  {
   "cell_type": "code",
   "execution_count": null,
   "metadata": {},
   "outputs": [],
   "source": []
  },
  {
   "cell_type": "code",
   "execution_count": null,
   "metadata": {},
   "outputs": [],
   "source": []
  },
  {
   "cell_type": "code",
   "execution_count": null,
   "metadata": {},
   "outputs": [],
   "source": []
  },
  {
   "cell_type": "code",
   "execution_count": null,
   "metadata": {},
   "outputs": [],
   "source": []
  },
  {
   "cell_type": "code",
   "execution_count": null,
   "metadata": {},
   "outputs": [],
   "source": []
  },
  {
   "cell_type": "code",
   "execution_count": null,
   "metadata": {},
   "outputs": [],
   "source": []
  }
 ],
 "metadata": {
  "kernelspec": {
   "display_name": "Python 3",
   "language": "python",
   "name": "python3"
  },
  "language_info": {
   "codemirror_mode": {
    "name": "ipython",
    "version": 3
   },
   "file_extension": ".py",
   "mimetype": "text/x-python",
   "name": "python",
   "nbconvert_exporter": "python",
   "pygments_lexer": "ipython3",
   "version": "3.7.3"
  }
 },
 "nbformat": 4,
 "nbformat_minor": 2
}
